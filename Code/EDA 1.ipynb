{
 "cells": [
  {
   "cell_type": "code",
   "execution_count": 1,
   "metadata": {},
   "outputs": [],
   "source": [
    "import pandas as pd\n",
    "import numpy as np"
   ]
  },
  {
   "cell_type": "code",
   "execution_count": 2,
   "metadata": {},
   "outputs": [
    {
     "data": {
      "text/html": [
       "<div>\n",
       "<style scoped>\n",
       "    .dataframe tbody tr th:only-of-type {\n",
       "        vertical-align: middle;\n",
       "    }\n",
       "\n",
       "    .dataframe tbody tr th {\n",
       "        vertical-align: top;\n",
       "    }\n",
       "\n",
       "    .dataframe thead th {\n",
       "        text-align: right;\n",
       "    }\n",
       "</style>\n",
       "<table border=\"1\" class=\"dataframe\">\n",
       "  <thead>\n",
       "    <tr style=\"text-align: right;\">\n",
       "      <th></th>\n",
       "      <th>지역별</th>\n",
       "      <th>2020년</th>\n",
       "      <th>2019년</th>\n",
       "      <th>2018년</th>\n",
       "      <th>2017년</th>\n",
       "      <th>2016년</th>\n",
       "      <th>2015년</th>\n",
       "      <th>2014년</th>\n",
       "      <th>2013년</th>\n",
       "      <th>2012년</th>\n",
       "      <th>2011년</th>\n",
       "    </tr>\n",
       "  </thead>\n",
       "  <tbody>\n",
       "    <tr>\n",
       "      <th>0</th>\n",
       "      <td>대구·경북·강원권</td>\n",
       "      <td>1.0474</td>\n",
       "      <td>1.0157</td>\n",
       "      <td>1.0092</td>\n",
       "      <td>1.0025</td>\n",
       "      <td>0.9918</td>\n",
       "      <td>0.9868</td>\n",
       "      <td>0.9816</td>\n",
       "      <td>0.9881</td>\n",
       "      <td>0.9915</td>\n",
       "      <td>0.9887</td>\n",
       "    </tr>\n",
       "    <tr>\n",
       "      <th>1</th>\n",
       "      <td>부산·울산·경남권</td>\n",
       "      <td>1.0449</td>\n",
       "      <td>1.0207</td>\n",
       "      <td>1.0143</td>\n",
       "      <td>1.0043</td>\n",
       "      <td>0.9964</td>\n",
       "      <td>0.9853</td>\n",
       "      <td>0.9787</td>\n",
       "      <td>0.9845</td>\n",
       "      <td>0.9860</td>\n",
       "      <td>0.9887</td>\n",
       "    </tr>\n",
       "    <tr>\n",
       "      <th>2</th>\n",
       "      <td>수도권</td>\n",
       "      <td>1.0376</td>\n",
       "      <td>1.0037</td>\n",
       "      <td>1.0085</td>\n",
       "      <td>1.0151</td>\n",
       "      <td>1.0064</td>\n",
       "      <td>0.9888</td>\n",
       "      <td>0.9758</td>\n",
       "      <td>0.9870</td>\n",
       "      <td>0.9893</td>\n",
       "      <td>0.9907</td>\n",
       "    </tr>\n",
       "    <tr>\n",
       "      <th>3</th>\n",
       "      <td>전라·제주권</td>\n",
       "      <td>1.0367</td>\n",
       "      <td>1.0149</td>\n",
       "      <td>1.0092</td>\n",
       "      <td>1.0084</td>\n",
       "      <td>0.9972</td>\n",
       "      <td>0.9818</td>\n",
       "      <td>0.9778</td>\n",
       "      <td>0.9956</td>\n",
       "      <td>0.9979</td>\n",
       "      <td>0.9833</td>\n",
       "    </tr>\n",
       "    <tr>\n",
       "      <th>4</th>\n",
       "      <td>충청권</td>\n",
       "      <td>1.0446</td>\n",
       "      <td>1.0152</td>\n",
       "      <td>1.0080</td>\n",
       "      <td>1.0074</td>\n",
       "      <td>0.9972</td>\n",
       "      <td>0.9829</td>\n",
       "      <td>0.9790</td>\n",
       "      <td>0.9812</td>\n",
       "      <td>0.9918</td>\n",
       "      <td>0.9960</td>\n",
       "    </tr>\n",
       "  </tbody>\n",
       "</table>\n",
       "</div>"
      ],
      "text/plain": [
       "         지역별   2020년   2019년   2018년   2017년   2016년   2015년   2014년   2013년  \\\n",
       "0  대구·경북·강원권  1.0474  1.0157  1.0092  1.0025  0.9918  0.9868  0.9816  0.9881   \n",
       "1  부산·울산·경남권  1.0449  1.0207  1.0143  1.0043  0.9964  0.9853  0.9787  0.9845   \n",
       "2        수도권  1.0376  1.0037  1.0085  1.0151  1.0064  0.9888  0.9758  0.9870   \n",
       "3     전라·제주권  1.0367  1.0149  1.0092  1.0084  0.9972  0.9818  0.9778  0.9956   \n",
       "4        충청권  1.0446  1.0152  1.0080  1.0074  0.9972  0.9829  0.9790  0.9812   \n",
       "\n",
       "    2012년   2011년  \n",
       "0  0.9915  0.9887  \n",
       "1  0.9860  0.9887  \n",
       "2  0.9893  0.9907  \n",
       "3  0.9979  0.9833  \n",
       "4  0.9918  0.9960  "
      ]
     },
     "execution_count": 2,
     "metadata": {},
     "output_type": "execute_result"
    }
   ],
   "source": [
    "df0 = pd.read_csv('대학 재정 건정성 지표2.csv',engine='python', encoding=\"utf8\")\n",
    "df0.head()\n",
    "#show the table"
   ]
  },
  {
   "cell_type": "code",
   "execution_count": 18,
   "metadata": {},
   "outputs": [],
   "source": [
    "import matplotlib.pylab as plt"
   ]
  },
  {
   "cell_type": "code",
   "execution_count": 22,
   "metadata": {},
   "outputs": [
    {
     "data": {
      "text/html": [
       "<div>\n",
       "<style scoped>\n",
       "    .dataframe tbody tr th:only-of-type {\n",
       "        vertical-align: middle;\n",
       "    }\n",
       "\n",
       "    .dataframe tbody tr th {\n",
       "        vertical-align: top;\n",
       "    }\n",
       "\n",
       "    .dataframe thead th {\n",
       "        text-align: right;\n",
       "    }\n",
       "</style>\n",
       "<table border=\"1\" class=\"dataframe\">\n",
       "  <thead>\n",
       "    <tr style=\"text-align: right;\">\n",
       "      <th></th>\n",
       "      <th>0</th>\n",
       "      <th>1</th>\n",
       "      <th>2</th>\n",
       "      <th>3</th>\n",
       "      <th>4</th>\n",
       "      <th>5</th>\n",
       "    </tr>\n",
       "  </thead>\n",
       "  <tbody>\n",
       "    <tr>\n",
       "      <th>지역별</th>\n",
       "      <td>대구·경북·강원권</td>\n",
       "      <td>부산·울산·경남권</td>\n",
       "      <td>수도권</td>\n",
       "      <td>전라·제주권</td>\n",
       "      <td>충청권</td>\n",
       "      <td>총합계</td>\n",
       "    </tr>\n",
       "    <tr>\n",
       "      <th>2020년</th>\n",
       "      <td>1.0474</td>\n",
       "      <td>1.0449</td>\n",
       "      <td>1.0376</td>\n",
       "      <td>1.0367</td>\n",
       "      <td>1.0446</td>\n",
       "      <td>1.0447</td>\n",
       "    </tr>\n",
       "    <tr>\n",
       "      <th>2019년</th>\n",
       "      <td>1.0157</td>\n",
       "      <td>1.0207</td>\n",
       "      <td>1.0037</td>\n",
       "      <td>1.0149</td>\n",
       "      <td>1.0152</td>\n",
       "      <td>1.0146</td>\n",
       "    </tr>\n",
       "    <tr>\n",
       "      <th>2018년</th>\n",
       "      <td>1.0092</td>\n",
       "      <td>1.0143</td>\n",
       "      <td>1.0085</td>\n",
       "      <td>1.0092</td>\n",
       "      <td>1.008</td>\n",
       "      <td>1.011</td>\n",
       "    </tr>\n",
       "    <tr>\n",
       "      <th>2017년</th>\n",
       "      <td>1.0025</td>\n",
       "      <td>1.0043</td>\n",
       "      <td>1.0151</td>\n",
       "      <td>1.0084</td>\n",
       "      <td>1.0074</td>\n",
       "      <td>1.0095</td>\n",
       "    </tr>\n",
       "    <tr>\n",
       "      <th>2016년</th>\n",
       "      <td>0.9918</td>\n",
       "      <td>0.9964</td>\n",
       "      <td>1.0064</td>\n",
       "      <td>0.9972</td>\n",
       "      <td>0.9972</td>\n",
       "      <td>0.9992</td>\n",
       "    </tr>\n",
       "    <tr>\n",
       "      <th>2015년</th>\n",
       "      <td>0.9868</td>\n",
       "      <td>0.9853</td>\n",
       "      <td>0.9888</td>\n",
       "      <td>0.9818</td>\n",
       "      <td>0.9829</td>\n",
       "      <td>0.9849</td>\n",
       "    </tr>\n",
       "    <tr>\n",
       "      <th>2014년</th>\n",
       "      <td>0.9816</td>\n",
       "      <td>0.9787</td>\n",
       "      <td>0.9758</td>\n",
       "      <td>0.9778</td>\n",
       "      <td>0.979</td>\n",
       "      <td>0.9771</td>\n",
       "    </tr>\n",
       "    <tr>\n",
       "      <th>2013년</th>\n",
       "      <td>0.9881</td>\n",
       "      <td>0.9845</td>\n",
       "      <td>0.987</td>\n",
       "      <td>0.9956</td>\n",
       "      <td>0.9812</td>\n",
       "      <td>0.9864</td>\n",
       "    </tr>\n",
       "    <tr>\n",
       "      <th>2012년</th>\n",
       "      <td>0.9915</td>\n",
       "      <td>0.986</td>\n",
       "      <td>0.9893</td>\n",
       "      <td>0.9979</td>\n",
       "      <td>0.9918</td>\n",
       "      <td>0.9921</td>\n",
       "    </tr>\n",
       "    <tr>\n",
       "      <th>2011년</th>\n",
       "      <td>0.9887</td>\n",
       "      <td>0.9887</td>\n",
       "      <td>0.9907</td>\n",
       "      <td>0.9833</td>\n",
       "      <td>0.996</td>\n",
       "      <td>0.9841</td>\n",
       "    </tr>\n",
       "  </tbody>\n",
       "</table>\n",
       "</div>"
      ],
      "text/plain": [
       "               0          1       2       3       4       5\n",
       "지역별    대구·경북·강원권  부산·울산·경남권     수도권  전라·제주권     충청권     총합계\n",
       "2020년     1.0474     1.0449  1.0376  1.0367  1.0446  1.0447\n",
       "2019년     1.0157     1.0207  1.0037  1.0149  1.0152  1.0146\n",
       "2018년     1.0092     1.0143  1.0085  1.0092   1.008   1.011\n",
       "2017년     1.0025     1.0043  1.0151  1.0084  1.0074  1.0095\n",
       "2016년     0.9918     0.9964  1.0064  0.9972  0.9972  0.9992\n",
       "2015년     0.9868     0.9853  0.9888  0.9818  0.9829  0.9849\n",
       "2014년     0.9816     0.9787  0.9758  0.9778   0.979  0.9771\n",
       "2013년     0.9881     0.9845   0.987  0.9956  0.9812  0.9864\n",
       "2012년     0.9915      0.986  0.9893  0.9979  0.9918  0.9921\n",
       "2011년     0.9887     0.9887  0.9907  0.9833   0.996  0.9841"
      ]
     },
     "execution_count": 22,
     "metadata": {},
     "output_type": "execute_result"
    }
   ],
   "source": [
    "df1 = df0.T"
   ]
  },
  {
   "cell_type": "code",
   "execution_count": 23,
   "metadata": {},
   "outputs": [],
   "source": [
    "from matplotlib import font_manager, rc\n",
    "font_path = \"C:/Windows/Fonts/H2GTRE.TTF\"\n",
    "font = font_manager.FontProperties(fname=font_path).get_name()\n",
    "rc('font', family=font)\n",
    "plt.rc('font', size=8) "
   ]
  },
  {
   "cell_type": "code",
   "execution_count": 24,
   "metadata": {},
   "outputs": [
    {
     "ename": "TypeError",
     "evalue": "no numeric data to plot",
     "output_type": "error",
     "traceback": [
      "\u001b[1;31m---------------------------------------------------------------------------\u001b[0m",
      "\u001b[1;31mTypeError\u001b[0m                                 Traceback (most recent call last)",
      "\u001b[1;32m<ipython-input-24-ee6a4af7d4f0>\u001b[0m in \u001b[0;36m<module>\u001b[1;34m\u001b[0m\n\u001b[1;32m----> 1\u001b[1;33m \u001b[0mgf0\u001b[0m \u001b[1;33m=\u001b[0m \u001b[0mdf1\u001b[0m\u001b[1;33m.\u001b[0m\u001b[0mplot\u001b[0m\u001b[1;33m(\u001b[0m\u001b[1;33m)\u001b[0m\u001b[1;33m\u001b[0m\u001b[1;33m\u001b[0m\u001b[0m\n\u001b[0m\u001b[0;32m      2\u001b[0m \u001b[0mgf0\u001b[0m\u001b[1;33m\u001b[0m\u001b[1;33m\u001b[0m\u001b[0m\n\u001b[0;32m      3\u001b[0m \u001b[1;31m#graph 1 complete\u001b[0m\u001b[1;33m\u001b[0m\u001b[1;33m\u001b[0m\u001b[1;33m\u001b[0m\u001b[0m\n",
      "\u001b[1;32mC:\\anaconda\\lib\\site-packages\\pandas\\plotting\\_core.py\u001b[0m in \u001b[0;36m__call__\u001b[1;34m(self, *args, **kwargs)\u001b[0m\n\u001b[0;32m    947\u001b[0m                     \u001b[0mdata\u001b[0m\u001b[1;33m.\u001b[0m\u001b[0mcolumns\u001b[0m \u001b[1;33m=\u001b[0m \u001b[0mlabel_name\u001b[0m\u001b[1;33m\u001b[0m\u001b[1;33m\u001b[0m\u001b[0m\n\u001b[0;32m    948\u001b[0m \u001b[1;33m\u001b[0m\u001b[0m\n\u001b[1;32m--> 949\u001b[1;33m         \u001b[1;32mreturn\u001b[0m \u001b[0mplot_backend\u001b[0m\u001b[1;33m.\u001b[0m\u001b[0mplot\u001b[0m\u001b[1;33m(\u001b[0m\u001b[0mdata\u001b[0m\u001b[1;33m,\u001b[0m \u001b[0mkind\u001b[0m\u001b[1;33m=\u001b[0m\u001b[0mkind\u001b[0m\u001b[1;33m,\u001b[0m \u001b[1;33m**\u001b[0m\u001b[0mkwargs\u001b[0m\u001b[1;33m)\u001b[0m\u001b[1;33m\u001b[0m\u001b[1;33m\u001b[0m\u001b[0m\n\u001b[0m\u001b[0;32m    950\u001b[0m \u001b[1;33m\u001b[0m\u001b[0m\n\u001b[0;32m    951\u001b[0m     \u001b[0m__call__\u001b[0m\u001b[1;33m.\u001b[0m\u001b[0m__doc__\u001b[0m \u001b[1;33m=\u001b[0m \u001b[0m__doc__\u001b[0m\u001b[1;33m\u001b[0m\u001b[1;33m\u001b[0m\u001b[0m\n",
      "\u001b[1;32mC:\\anaconda\\lib\\site-packages\\pandas\\plotting\\_matplotlib\\__init__.py\u001b[0m in \u001b[0;36mplot\u001b[1;34m(data, kind, **kwargs)\u001b[0m\n\u001b[0;32m     59\u001b[0m             \u001b[0mkwargs\u001b[0m\u001b[1;33m[\u001b[0m\u001b[1;34m\"ax\"\u001b[0m\u001b[1;33m]\u001b[0m \u001b[1;33m=\u001b[0m \u001b[0mgetattr\u001b[0m\u001b[1;33m(\u001b[0m\u001b[0max\u001b[0m\u001b[1;33m,\u001b[0m \u001b[1;34m\"left_ax\"\u001b[0m\u001b[1;33m,\u001b[0m \u001b[0max\u001b[0m\u001b[1;33m)\u001b[0m\u001b[1;33m\u001b[0m\u001b[1;33m\u001b[0m\u001b[0m\n\u001b[0;32m     60\u001b[0m     \u001b[0mplot_obj\u001b[0m \u001b[1;33m=\u001b[0m \u001b[0mPLOT_CLASSES\u001b[0m\u001b[1;33m[\u001b[0m\u001b[0mkind\u001b[0m\u001b[1;33m]\u001b[0m\u001b[1;33m(\u001b[0m\u001b[0mdata\u001b[0m\u001b[1;33m,\u001b[0m \u001b[1;33m**\u001b[0m\u001b[0mkwargs\u001b[0m\u001b[1;33m)\u001b[0m\u001b[1;33m\u001b[0m\u001b[1;33m\u001b[0m\u001b[0m\n\u001b[1;32m---> 61\u001b[1;33m     \u001b[0mplot_obj\u001b[0m\u001b[1;33m.\u001b[0m\u001b[0mgenerate\u001b[0m\u001b[1;33m(\u001b[0m\u001b[1;33m)\u001b[0m\u001b[1;33m\u001b[0m\u001b[1;33m\u001b[0m\u001b[0m\n\u001b[0m\u001b[0;32m     62\u001b[0m     \u001b[0mplot_obj\u001b[0m\u001b[1;33m.\u001b[0m\u001b[0mdraw\u001b[0m\u001b[1;33m(\u001b[0m\u001b[1;33m)\u001b[0m\u001b[1;33m\u001b[0m\u001b[1;33m\u001b[0m\u001b[0m\n\u001b[0;32m     63\u001b[0m     \u001b[1;32mreturn\u001b[0m \u001b[0mplot_obj\u001b[0m\u001b[1;33m.\u001b[0m\u001b[0mresult\u001b[0m\u001b[1;33m\u001b[0m\u001b[1;33m\u001b[0m\u001b[0m\n",
      "\u001b[1;32mC:\\anaconda\\lib\\site-packages\\pandas\\plotting\\_matplotlib\\core.py\u001b[0m in \u001b[0;36mgenerate\u001b[1;34m(self)\u001b[0m\n\u001b[0;32m    267\u001b[0m     \u001b[1;32mdef\u001b[0m \u001b[0mgenerate\u001b[0m\u001b[1;33m(\u001b[0m\u001b[0mself\u001b[0m\u001b[1;33m)\u001b[0m\u001b[1;33m:\u001b[0m\u001b[1;33m\u001b[0m\u001b[1;33m\u001b[0m\u001b[0m\n\u001b[0;32m    268\u001b[0m         \u001b[0mself\u001b[0m\u001b[1;33m.\u001b[0m\u001b[0m_args_adjust\u001b[0m\u001b[1;33m(\u001b[0m\u001b[1;33m)\u001b[0m\u001b[1;33m\u001b[0m\u001b[1;33m\u001b[0m\u001b[0m\n\u001b[1;32m--> 269\u001b[1;33m         \u001b[0mself\u001b[0m\u001b[1;33m.\u001b[0m\u001b[0m_compute_plot_data\u001b[0m\u001b[1;33m(\u001b[0m\u001b[1;33m)\u001b[0m\u001b[1;33m\u001b[0m\u001b[1;33m\u001b[0m\u001b[0m\n\u001b[0m\u001b[0;32m    270\u001b[0m         \u001b[0mself\u001b[0m\u001b[1;33m.\u001b[0m\u001b[0m_setup_subplots\u001b[0m\u001b[1;33m(\u001b[0m\u001b[1;33m)\u001b[0m\u001b[1;33m\u001b[0m\u001b[1;33m\u001b[0m\u001b[0m\n\u001b[0;32m    271\u001b[0m         \u001b[0mself\u001b[0m\u001b[1;33m.\u001b[0m\u001b[0m_make_plot\u001b[0m\u001b[1;33m(\u001b[0m\u001b[1;33m)\u001b[0m\u001b[1;33m\u001b[0m\u001b[1;33m\u001b[0m\u001b[0m\n",
      "\u001b[1;32mC:\\anaconda\\lib\\site-packages\\pandas\\plotting\\_matplotlib\\core.py\u001b[0m in \u001b[0;36m_compute_plot_data\u001b[1;34m(self)\u001b[0m\n\u001b[0;32m    416\u001b[0m         \u001b[1;31m# no non-numeric frames or series allowed\u001b[0m\u001b[1;33m\u001b[0m\u001b[1;33m\u001b[0m\u001b[1;33m\u001b[0m\u001b[0m\n\u001b[0;32m    417\u001b[0m         \u001b[1;32mif\u001b[0m \u001b[0mis_empty\u001b[0m\u001b[1;33m:\u001b[0m\u001b[1;33m\u001b[0m\u001b[1;33m\u001b[0m\u001b[0m\n\u001b[1;32m--> 418\u001b[1;33m             \u001b[1;32mraise\u001b[0m \u001b[0mTypeError\u001b[0m\u001b[1;33m(\u001b[0m\u001b[1;34m\"no numeric data to plot\"\u001b[0m\u001b[1;33m)\u001b[0m\u001b[1;33m\u001b[0m\u001b[1;33m\u001b[0m\u001b[0m\n\u001b[0m\u001b[0;32m    419\u001b[0m \u001b[1;33m\u001b[0m\u001b[0m\n\u001b[0;32m    420\u001b[0m         \u001b[1;31m# GH25587: cast ExtensionArray of pandas (IntegerArray, etc.) to\u001b[0m\u001b[1;33m\u001b[0m\u001b[1;33m\u001b[0m\u001b[1;33m\u001b[0m\u001b[0m\n",
      "\u001b[1;31mTypeError\u001b[0m: no numeric data to plot"
     ]
    }
   ],
   "source": [
    "gf0 = df1.plot()\n",
    "gf0\n",
    "#graph 1 complete"
   ]
  },
  {
   "cell_type": "code",
   "execution_count": 25,
   "metadata": {},
   "outputs": [
    {
     "data": {
      "text/html": [
       "<div>\n",
       "<style scoped>\n",
       "    .dataframe tbody tr th:only-of-type {\n",
       "        vertical-align: middle;\n",
       "    }\n",
       "\n",
       "    .dataframe tbody tr th {\n",
       "        vertical-align: top;\n",
       "    }\n",
       "\n",
       "    .dataframe thead th {\n",
       "        text-align: right;\n",
       "    }\n",
       "</style>\n",
       "<table border=\"1\" class=\"dataframe\">\n",
       "  <thead>\n",
       "    <tr style=\"text-align: right;\">\n",
       "      <th></th>\n",
       "      <th>연도</th>\n",
       "      <th>2003년</th>\n",
       "      <th>2004년</th>\n",
       "      <th>2005년</th>\n",
       "      <th>2006년</th>\n",
       "      <th>2007년</th>\n",
       "      <th>2008년</th>\n",
       "      <th>2009년</th>\n",
       "      <th>2010년</th>\n",
       "      <th>2011년</th>\n",
       "      <th>2012년</th>\n",
       "      <th>2013년</th>\n",
       "      <th>2014년</th>\n",
       "      <th>2015년</th>\n",
       "      <th>2016년</th>\n",
       "      <th>2017년</th>\n",
       "      <th>2018년</th>\n",
       "      <th>2019년</th>\n",
       "      <th>2020년</th>\n",
       "    </tr>\n",
       "  </thead>\n",
       "  <tbody>\n",
       "    <tr>\n",
       "      <th>0</th>\n",
       "      <td>유학생수</td>\n",
       "      <td>12314</td>\n",
       "      <td>16832</td>\n",
       "      <td>22526</td>\n",
       "      <td>32557</td>\n",
       "      <td>49270</td>\n",
       "      <td>63952</td>\n",
       "      <td>75850</td>\n",
       "      <td>83842</td>\n",
       "      <td>89537</td>\n",
       "      <td>86878</td>\n",
       "      <td>85923</td>\n",
       "      <td>84891</td>\n",
       "      <td>91332</td>\n",
       "      <td>104262</td>\n",
       "      <td>123858</td>\n",
       "      <td>142205</td>\n",
       "      <td>160165</td>\n",
       "      <td>153695</td>\n",
       "    </tr>\n",
       "  </tbody>\n",
       "</table>\n",
       "</div>"
      ],
      "text/plain": [
       "     연도   2003년    2004년    2005년   2006년  2007년  2008년  2009년  2010년  2011년  \\\n",
       "0  유학생수    12314    16832    22526  32557  49270  63952  75850  83842  89537   \n",
       "\n",
       "   2012년  2013년  2014년  2015년   2016년   2017년   2018년   2019년   2020년  \n",
       "0  86878  85923  84891  91332  104262  123858  142205  160165  153695  "
      ]
     },
     "execution_count": 25,
     "metadata": {},
     "output_type": "execute_result"
    }
   ],
   "source": [
    "df2 = pd.read_csv('국내 외국인 유학생 통계2.csv',engine='python', encoding=\"utf8\")\n",
    "df2"
   ]
  },
  {
   "cell_type": "code",
   "execution_count": 531,
   "metadata": {},
   "outputs": [
    {
     "data": {
      "text/plain": [
       "['유학생수']"
      ]
     },
     "execution_count": 531,
     "metadata": {},
     "output_type": "execute_result"
    }
   ],
   "source": [
    "idx_list = list(df2['연도'])\n",
    "idx_list\n"
   ]
  },
  {
   "cell_type": "code",
   "execution_count": 532,
   "metadata": {},
   "outputs": [],
   "source": [
    "df2.index = idx_list\n",
    "df2 = df2.drop(['연도'], axis = 1,inplace=False)"
   ]
  },
  {
   "cell_type": "code",
   "execution_count": 533,
   "metadata": {},
   "outputs": [
    {
     "data": {
      "text/html": [
       "<div>\n",
       "<style scoped>\n",
       "    .dataframe tbody tr th:only-of-type {\n",
       "        vertical-align: middle;\n",
       "    }\n",
       "\n",
       "    .dataframe tbody tr th {\n",
       "        vertical-align: top;\n",
       "    }\n",
       "\n",
       "    .dataframe thead th {\n",
       "        text-align: right;\n",
       "    }\n",
       "</style>\n",
       "<table border=\"1\" class=\"dataframe\">\n",
       "  <thead>\n",
       "    <tr style=\"text-align: right;\">\n",
       "      <th></th>\n",
       "      <th>2011년</th>\n",
       "      <th>2012년</th>\n",
       "      <th>2013년</th>\n",
       "      <th>2014년</th>\n",
       "      <th>2015년</th>\n",
       "      <th>2016년</th>\n",
       "      <th>2017년</th>\n",
       "      <th>2018년</th>\n",
       "      <th>2019년</th>\n",
       "      <th>2020년</th>\n",
       "    </tr>\n",
       "  </thead>\n",
       "  <tbody>\n",
       "    <tr>\n",
       "      <th>유학생수</th>\n",
       "      <td>89537</td>\n",
       "      <td>86878</td>\n",
       "      <td>85923</td>\n",
       "      <td>84891</td>\n",
       "      <td>91332</td>\n",
       "      <td>104262</td>\n",
       "      <td>123858</td>\n",
       "      <td>142205</td>\n",
       "      <td>160165</td>\n",
       "      <td>153695</td>\n",
       "    </tr>\n",
       "  </tbody>\n",
       "</table>\n",
       "</div>"
      ],
      "text/plain": [
       "      2011년  2012년  2013년  2014년  2015년   2016년   2017년   2018년   2019년  \\\n",
       "유학생수  89537  86878  85923  84891  91332  104262  123858  142205  160165   \n",
       "\n",
       "       2020년  \n",
       "유학생수  153695  "
      ]
     },
     "execution_count": 533,
     "metadata": {},
     "output_type": "execute_result"
    }
   ],
   "source": [
    "df2=df2.iloc[:,8:18]\n",
    "df2"
   ]
  },
  {
   "cell_type": "code",
   "execution_count": 534,
   "metadata": {},
   "outputs": [
    {
     "data": {
      "text/plain": [
       "2011년    int64\n",
       "2012년    int64\n",
       "2013년    int64\n",
       "2014년    int64\n",
       "2015년    int64\n",
       "2016년    int64\n",
       "2017년    int64\n",
       "2018년    int64\n",
       "2019년    int64\n",
       "2020년    int64\n",
       "dtype: object"
      ]
     },
     "execution_count": 534,
     "metadata": {},
     "output_type": "execute_result"
    }
   ],
   "source": [
    "df2.dtypes"
   ]
  },
  {
   "cell_type": "code",
   "execution_count": 535,
   "metadata": {},
   "outputs": [
    {
     "data": {
      "text/plain": [
       "<AxesSubplot:>"
      ]
     },
     "execution_count": 535,
     "metadata": {},
     "output_type": "execute_result"
    },
    {
     "data": {
      "image/png": "[encoded data removed]",
      "text/plain": [
       "<Figure size 400x300 with 1 Axes>"
      ]
     },
     "metadata": {},
     "output_type": "display_data"
    }
   ],
   "source": [
    "df2.plot.bar()"
   ]
  },
  {
   "cell_type": "code",
   "execution_count": 536,
   "metadata": {},
   "outputs": [
    {
     "data": {
      "text/html": [
       "<div>\n",
       "<style scoped>\n",
       "    .dataframe tbody tr th:only-of-type {\n",
       "        vertical-align: middle;\n",
       "    }\n",
       "\n",
       "    .dataframe tbody tr th {\n",
       "        vertical-align: top;\n",
       "    }\n",
       "\n",
       "    .dataframe thead th {\n",
       "        text-align: right;\n",
       "    }\n",
       "</style>\n",
       "<table border=\"1\" class=\"dataframe\">\n",
       "  <thead>\n",
       "    <tr style=\"text-align: right;\">\n",
       "      <th></th>\n",
       "      <th>유학생수</th>\n",
       "    </tr>\n",
       "  </thead>\n",
       "  <tbody>\n",
       "    <tr>\n",
       "      <th>2011년</th>\n",
       "      <td>89537</td>\n",
       "    </tr>\n",
       "    <tr>\n",
       "      <th>2012년</th>\n",
       "      <td>86878</td>\n",
       "    </tr>\n",
       "    <tr>\n",
       "      <th>2013년</th>\n",
       "      <td>85923</td>\n",
       "    </tr>\n",
       "    <tr>\n",
       "      <th>2014년</th>\n",
       "      <td>84891</td>\n",
       "    </tr>\n",
       "    <tr>\n",
       "      <th>2015년</th>\n",
       "      <td>91332</td>\n",
       "    </tr>\n",
       "    <tr>\n",
       "      <th>2016년</th>\n",
       "      <td>104262</td>\n",
       "    </tr>\n",
       "    <tr>\n",
       "      <th>2017년</th>\n",
       "      <td>123858</td>\n",
       "    </tr>\n",
       "    <tr>\n",
       "      <th>2018년</th>\n",
       "      <td>142205</td>\n",
       "    </tr>\n",
       "    <tr>\n",
       "      <th>2019년</th>\n",
       "      <td>160165</td>\n",
       "    </tr>\n",
       "    <tr>\n",
       "      <th>2020년</th>\n",
       "      <td>153695</td>\n",
       "    </tr>\n",
       "  </tbody>\n",
       "</table>\n",
       "</div>"
      ],
      "text/plain": [
       "         유학생수\n",
       "2011년   89537\n",
       "2012년   86878\n",
       "2013년   85923\n",
       "2014년   84891\n",
       "2015년   91332\n",
       "2016년  104262\n",
       "2017년  123858\n",
       "2018년  142205\n",
       "2019년  160165\n",
       "2020년  153695"
      ]
     },
     "execution_count": 536,
     "metadata": {},
     "output_type": "execute_result"
    }
   ],
   "source": [
    "df2 = df2.T\n",
    "df2"
   ]
  },
  {
   "cell_type": "code",
   "execution_count": 537,
   "metadata": {},
   "outputs": [
    {
     "data": {
      "text/plain": [
       "<AxesSubplot:>"
      ]
     },
     "execution_count": 537,
     "metadata": {},
     "output_type": "execute_result"
    },
    {
     "data": {
      "image/png": "[encoded data removed]",
      "text/plain": [
       "<Figure size 400x300 with 1 Axes>"
      ]
     },
     "metadata": {},
     "output_type": "display_data"
    }
   ],
   "source": [
    "gf1 = df2.plot.bar()\n",
    "gf1\n",
    "#graph2 complete"
   ]
  }
 ],
 "metadata": {
  "kernelspec": {
   "display_name": "Python 3",
   "language": "python",
   "name": "python3"
  },
  "language_info": {
   "codemirror_mode": {
    "name": "ipython",
    "version": 3
   },
   "file_extension": ".py",
   "mimetype": "text/x-python",
   "name": "python",
   "nbconvert_exporter": "python",
   "pygments_lexer": "ipython3",
   "version": "3.8.5"
  }
 },
 "nbformat": 4,
 "nbformat_minor": 4
}
